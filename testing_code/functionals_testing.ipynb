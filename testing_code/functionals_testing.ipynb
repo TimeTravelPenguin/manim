{
 "cells": [
  {
   "cell_type": "code",
   "execution_count": 7,
   "metadata": {},
   "outputs": [],
   "source": [
    "# Using conda env JupyterEnv\n",
    "\n",
    "from manim import *\n",
    "from typing import Callable\n",
    "import numpy as np\n",
    "import functools\n",
    "\n",
    "config.pixel_height = 720\n",
    "config.pixel_width = 1280\n",
    "config.disable_caching = True\n",
    "config.verbosity = \"WARNING\"\n",
    "config.media_embed = True"
   ]
  },
  {
   "cell_type": "code",
   "execution_count": 12,
   "metadata": {},
   "outputs": [],
   "source": [
    "class Test(Scene):\n",
    "    def construct(self):\n",
    "        file = \"D:/Programming/ForkRepos/manim/testing_code/code.py\"\n",
    "                \n",
    "        code = Code(file, language=\"py\", style=\"github-dark\")\n",
    "        print(code.text)\n",
    "        \n",
    "        self.play(Create(code))\n",
    "        self.wait(1)\n",
    "        \n",
    "        for i in \"\".join([w.text for w in code if w.text]):\n",
    "            self.play(Indicate(i))"
   ]
  },
  {
   "cell_type": "code",
   "execution_count": 13,
   "metadata": {},
   "outputs": [
    {
     "name": "stdout",
     "output_type": "stream",
     "text": [
      "<tt><spanfgcolor=\"#ff7b72\">import</span><spanfgcolor=\"#e6edf3\"></span><spanfgcolor=\"#ff7b72\">numpy</span><spanfgcolor=\"#e6edf3\"></span><spanfgcolor=\"#ff7b72\">as</span><spanfgcolor=\"#e6edf3\"></span><spanfgcolor=\"#ff7b72\">np</span><spanfgcolor=\"#6e7681\"></span><spanfgcolor=\"#ff7b72\">def</span><spanfgcolor=\"#e6edf3\"></span><spanfgcolor=\"#d2a8ff\"><b>cis</b></span><spanfgcolor=\"#e6edf3\">(</span><spanfgcolor=\"#e6edf3\">x</span><spanfgcolor=\"#e6edf3\">):</span><spanfgcolor=\"#6e7681\"></span><spanfgcolor=\"#e6edf3\"></span><spanfgcolor=\"#ff7b72\">return</span><spanfgcolor=\"#e6edf3\"></span><spanfgcolor=\"#e6edf3\">np</span><spanfgcolor=\"#ff7b72\"><b>.</b></span><spanfgcolor=\"#e6edf3\">cos</span><spanfgcolor=\"#e6edf3\">(</span><spanfgcolor=\"#e6edf3\">x</span><spanfgcolor=\"#e6edf3\">)</span><spanfgcolor=\"#e6edf3\"></span><spanfgcolor=\"#ff7b72\"><b>+</b></span><spanfgcolor=\"#e6edf3\"></span><spanfgcolor=\"#e6edf3\">np</span><spanfgcolor=\"#ff7b72\"><b>.</b></span><spanfgcolor=\"#e6edf3\">sin</span><spanfgcolor=\"#e6edf3\">(</span><spanfgcolor=\"#e6edf3\">x</span><spanfgcolor=\"#e6edf3\">)</span><spanfgcolor=\"#e6edf3\"></span><spanfgcolor=\"#ff7b72\"><b>*</b></span><spanfgcolor=\"#e6edf3\"></span><spanfgcolor=\"#a5d6ff\">1</span><spanfgcolor=\"#e6edf3\">j</span><spanfgcolor=\"#6e7681\"></span><spanfgcolor=\"#ff7b72\">if</span><spanfgcolor=\"#e6edf3\"></span><spanfgcolor=\"#79c0ff\">__name__</span><spanfgcolor=\"#e6edf3\"></span><spanfgcolor=\"#ff7b72\"><b>==</b></span><spanfgcolor=\"#e6edf3\"></span><spanfgcolor=\"#a5d6ff\">\"__main__\"</span><spanfgcolor=\"#e6edf3\">:</span><spanfgcolor=\"#6e7681\"></span><spanfgcolor=\"#e6edf3\"></span><spanfgcolor=\"#e6edf3\">z</span><spanfgcolor=\"#e6edf3\"></span><spanfgcolor=\"#ff7b72\"><b>=</b></span><spanfgcolor=\"#e6edf3\"></span><spanfgcolor=\"#a5d6ff\">1</span><spanfgcolor=\"#e6edf3\"></span><spanfgcolor=\"#ff7b72\"><b>+</b></span><spanfgcolor=\"#e6edf3\"></span><spanfgcolor=\"#a5d6ff\">1</span><spanfgcolor=\"#e6edf3\">j</span><spanfgcolor=\"#6e7681\"></span><spanfgcolor=\"#e6edf3\"></span><spanfgcolor=\"#e6edf3\">print</span><spanfgcolor=\"#e6edf3\">(</span><spanfgcolor=\"#e6edf3\">z</span><spanfgcolor=\"#e6edf3\">)</span><spanfgcolor=\"#6e7681\"></span><spanfgcolor=\"#e6edf3\"></span><spanfgcolor=\"#e6edf3\">print</span><spanfgcolor=\"#e6edf3\">(</span><spanfgcolor=\"#e6edf3\">cis</span><spanfgcolor=\"#e6edf3\">(</span><spanfgcolor=\"#e6edf3\">z</span><spanfgcolor=\"#e6edf3\">))</span><spanfgcolor=\"#6e7681\"></span></tt>\n"
     ]
    },
    {
     "name": "stderr",
     "output_type": "stream",
     "text": [
      "                                                                                                                                                                                                                                                                                                                                                                                                                                                                                                                                                                                                                                                                                                                                                                                                                                                                                                                                                                                                                                                                                                                                                                                                                                                                                                                                                                                                                                                                                                                                                                                                                                                                                                                                                                                                                                                                                                                                                                                                                                                                                                                                                                                                                                                                                                                                                                                                                                                                                                                                                                                                                                                                                                      \r"
     ]
    },
    {
     "ename": "AttributeError",
     "evalue": "VMobjectFromSVGPath object has no attribute 'text'",
     "output_type": "error",
     "traceback": [
      "\u001b[1;31m---------------------------------------------------------------------------\u001b[0m",
      "\u001b[1;31mAttributeError\u001b[0m                            Traceback (most recent call last)",
      "Cell \u001b[1;32mIn[13], line 1\u001b[0m\n\u001b[1;32m----> 1\u001b[0m get_ipython()\u001b[39m.\u001b[39;49mrun_line_magic(\u001b[39m'\u001b[39;49m\u001b[39mmanim\u001b[39;49m\u001b[39m'\u001b[39;49m, \u001b[39m'\u001b[39;49m\u001b[39mTest\u001b[39;49m\u001b[39m'\u001b[39;49m)\n",
      "File \u001b[1;32mc:\\Users\\filup\\anaconda3\\envs\\JupyterEnv\\lib\\site-packages\\IPython\\core\\interactiveshell.py:2417\u001b[0m, in \u001b[0;36mInteractiveShell.run_line_magic\u001b[1;34m(self, magic_name, line, _stack_depth)\u001b[0m\n\u001b[0;32m   2415\u001b[0m     kwargs[\u001b[39m'\u001b[39m\u001b[39mlocal_ns\u001b[39m\u001b[39m'\u001b[39m] \u001b[39m=\u001b[39m \u001b[39mself\u001b[39m\u001b[39m.\u001b[39mget_local_scope(stack_depth)\n\u001b[0;32m   2416\u001b[0m \u001b[39mwith\u001b[39;00m \u001b[39mself\u001b[39m\u001b[39m.\u001b[39mbuiltin_trap:\n\u001b[1;32m-> 2417\u001b[0m     result \u001b[39m=\u001b[39m fn(\u001b[39m*\u001b[39margs, \u001b[39m*\u001b[39m\u001b[39m*\u001b[39mkwargs)\n\u001b[0;32m   2419\u001b[0m \u001b[39m# The code below prevents the output from being displayed\u001b[39;00m\n\u001b[0;32m   2420\u001b[0m \u001b[39m# when using magics with decodator @output_can_be_silenced\u001b[39;00m\n\u001b[0;32m   2421\u001b[0m \u001b[39m# when the last Python token in the expression is a ';'.\u001b[39;00m\n\u001b[0;32m   2422\u001b[0m \u001b[39mif\u001b[39;00m \u001b[39mgetattr\u001b[39m(fn, magic\u001b[39m.\u001b[39mMAGIC_OUTPUT_CAN_BE_SILENCED, \u001b[39mFalse\u001b[39;00m):\n",
      "File \u001b[1;32mc:\\Users\\filup\\anaconda3\\envs\\JupyterEnv\\lib\\site-packages\\manim\\utils\\ipython_magic.py:141\u001b[0m, in \u001b[0;36mManimMagic.manim\u001b[1;34m(self, line, cell, local_ns)\u001b[0m\n\u001b[0;32m    139\u001b[0m     SceneClass \u001b[39m=\u001b[39m local_ns[config[\u001b[39m\"\u001b[39m\u001b[39mscene_names\u001b[39m\u001b[39m\"\u001b[39m][\u001b[39m0\u001b[39m]]\n\u001b[0;32m    140\u001b[0m     scene \u001b[39m=\u001b[39m SceneClass(renderer\u001b[39m=\u001b[39mrenderer)\n\u001b[1;32m--> 141\u001b[0m     scene\u001b[39m.\u001b[39;49mrender()\n\u001b[0;32m    142\u001b[0m \u001b[39mfinally\u001b[39;00m:\n\u001b[0;32m    143\u001b[0m     \u001b[39m# Shader cache becomes invalid as the context is destroyed\u001b[39;00m\n\u001b[0;32m    144\u001b[0m     shader_program_cache\u001b[39m.\u001b[39mclear()\n",
      "File \u001b[1;32mc:\\Users\\filup\\anaconda3\\envs\\JupyterEnv\\lib\\site-packages\\manim\\scene\\scene.py:223\u001b[0m, in \u001b[0;36mScene.render\u001b[1;34m(self, preview)\u001b[0m\n\u001b[0;32m    221\u001b[0m \u001b[39mself\u001b[39m\u001b[39m.\u001b[39msetup()\n\u001b[0;32m    222\u001b[0m \u001b[39mtry\u001b[39;00m:\n\u001b[1;32m--> 223\u001b[0m     \u001b[39mself\u001b[39;49m\u001b[39m.\u001b[39;49mconstruct()\n\u001b[0;32m    224\u001b[0m \u001b[39mexcept\u001b[39;00m EndSceneEarlyException:\n\u001b[0;32m    225\u001b[0m     \u001b[39mpass\u001b[39;00m\n",
      "Cell \u001b[1;32mIn[12], line 11\u001b[0m, in \u001b[0;36mTest.construct\u001b[1;34m(self)\u001b[0m\n\u001b[0;32m      8\u001b[0m \u001b[39mself\u001b[39m\u001b[39m.\u001b[39mplay(Create(code))\n\u001b[0;32m      9\u001b[0m \u001b[39mself\u001b[39m\u001b[39m.\u001b[39mwait(\u001b[39m1\u001b[39m)\n\u001b[1;32m---> 11\u001b[0m \u001b[39mfor\u001b[39;00m i \u001b[39min\u001b[39;00m \u001b[39m\"\u001b[39m\u001b[39m\"\u001b[39m\u001b[39m.\u001b[39mjoin([w\u001b[39m.\u001b[39mtext \u001b[39mfor\u001b[39;00m w \u001b[39min\u001b[39;00m code \u001b[39mif\u001b[39;00m w\u001b[39m.\u001b[39mtext]):\n\u001b[0;32m     12\u001b[0m     \u001b[39mself\u001b[39m\u001b[39m.\u001b[39mplay(Indicate(i))\n",
      "Cell \u001b[1;32mIn[12], line 11\u001b[0m, in \u001b[0;36m<listcomp>\u001b[1;34m(.0)\u001b[0m\n\u001b[0;32m      8\u001b[0m \u001b[39mself\u001b[39m\u001b[39m.\u001b[39mplay(Create(code))\n\u001b[0;32m      9\u001b[0m \u001b[39mself\u001b[39m\u001b[39m.\u001b[39mwait(\u001b[39m1\u001b[39m)\n\u001b[1;32m---> 11\u001b[0m \u001b[39mfor\u001b[39;00m i \u001b[39min\u001b[39;00m \u001b[39m\"\u001b[39m\u001b[39m\"\u001b[39m\u001b[39m.\u001b[39mjoin([w\u001b[39m.\u001b[39mtext \u001b[39mfor\u001b[39;00m w \u001b[39min\u001b[39;00m code \u001b[39mif\u001b[39;00m w\u001b[39m.\u001b[39;49mtext]):\n\u001b[0;32m     12\u001b[0m     \u001b[39mself\u001b[39m\u001b[39m.\u001b[39mplay(Indicate(i))\n",
      "File \u001b[1;32mc:\\Users\\filup\\anaconda3\\envs\\JupyterEnv\\lib\\site-packages\\manim\\mobject\\mobject.py:662\u001b[0m, in \u001b[0;36mMobject.__getattr__\u001b[1;34m(self, attr)\u001b[0m\n\u001b[0;32m    659\u001b[0m     \u001b[39mreturn\u001b[39;00m types\u001b[39m.\u001b[39mMethodType(setter, \u001b[39mself\u001b[39m)\n\u001b[0;32m    661\u001b[0m \u001b[39m# Unhandled attribute, therefore error\u001b[39;00m\n\u001b[1;32m--> 662\u001b[0m \u001b[39mraise\u001b[39;00m \u001b[39mAttributeError\u001b[39;00m(\u001b[39mf\u001b[39m\u001b[39m\"\u001b[39m\u001b[39m{\u001b[39;00m\u001b[39mtype\u001b[39m(\u001b[39mself\u001b[39m)\u001b[39m.\u001b[39m\u001b[39m__name__\u001b[39m\u001b[39m}\u001b[39;00m\u001b[39m object has no attribute \u001b[39m\u001b[39m'\u001b[39m\u001b[39m{\u001b[39;00mattr\u001b[39m}\u001b[39;00m\u001b[39m'\u001b[39m\u001b[39m\"\u001b[39m)\n",
      "\u001b[1;31mAttributeError\u001b[0m: VMobjectFromSVGPath object has no attribute 'text'"
     ]
    }
   ],
   "source": [
    "%manim Test"
   ]
  }
 ],
 "metadata": {
  "kernelspec": {
   "display_name": "manim-ErNUUmGT-py3.11",
   "language": "python",
   "name": "python3"
  },
  "language_info": {
   "codemirror_mode": {
    "name": "ipython",
    "version": 3
   },
   "file_extension": ".py",
   "mimetype": "text/x-python",
   "name": "python",
   "nbconvert_exporter": "python",
   "pygments_lexer": "ipython3",
   "version": "3.10.12"
  },
  "orig_nbformat": 4
 },
 "nbformat": 4,
 "nbformat_minor": 2
}
